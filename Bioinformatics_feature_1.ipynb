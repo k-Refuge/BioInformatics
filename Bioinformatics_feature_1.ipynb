{
 "cells": [
  {
   "cell_type": "code",
   "execution_count": 3,
   "id": "6a6f9757-99f2-4a20-a216-3766ec24d36b",
   "metadata": {},
   "outputs": [
    {
     "name": "stdout",
     "output_type": "stream",
     "text": [
      "Collecting tqdm\n",
      "  Downloading tqdm-4.67.1-py3-none-any.whl.metadata (57 kB)\n",
      "Requirement already satisfied: colorama in c:\\users\\pc\\appdata\\local\\programs\\python\\python312\\lib\\site-packages (from tqdm) (0.4.6)\n",
      "Downloading tqdm-4.67.1-py3-none-any.whl (78 kB)\n",
      "Installing collected packages: tqdm\n",
      "Successfully installed tqdm-4.67.1\n",
      "Note: you may need to restart the kernel to use updated packages.\n"
     ]
    },
    {
     "name": "stderr",
     "output_type": "stream",
     "text": [
      "\n",
      "[notice] A new release of pip is available: 24.2 -> 25.0.1\n",
      "[notice] To update, run: python.exe -m pip install --upgrade pip\n"
     ]
    }
   ],
   "source": [
    "pip install tqdm"
   ]
  },
  {
   "cell_type": "code",
   "execution_count": 10,
   "id": "6595dc5f-5528-4627-a462-089d8478b9b6",
   "metadata": {},
   "outputs": [
    {
     "name": "stdout",
     "output_type": "stream",
     "text": [
      "Index(['Unnamed: 0', 'UniProt ID', 'Gene', 'Mutation', 'Class'], dtype='object')\n",
      "✅ Loaded 67 mutation matrices.\n"
     ]
    },
    {
     "name": "stderr",
     "output_type": "stream",
     "text": [
      "  9%|██████▋                                                                    | 1615/18114 [08:38<1:29:40,  3.07it/s]"
     ]
    },
    {
     "name": "stdout",
     "output_type": "stream",
     "text": [
      "⚠️ Skipping Q6RUI8 - R109I\n"
     ]
    },
    {
     "name": "stderr",
     "output_type": "stream",
     "text": [
      " 11%|████████▌                                                                  | 2071/18114 [11:08<1:23:53,  3.19it/s]"
     ]
    },
    {
     "name": "stdout",
     "output_type": "stream",
     "text": [
      "⚠️ Skipping Q17RH7 - S212P\n"
     ]
    },
    {
     "name": "stderr",
     "output_type": "stream",
     "text": [
      " 20%|███████████████▏                                                           | 3656/18114 [19:39<1:18:40,  3.06it/s]"
     ]
    },
    {
     "name": "stdout",
     "output_type": "stream",
     "text": [
      "⚠️ Skipping Q5T1J6 - Q118H\n"
     ]
    },
    {
     "name": "stderr",
     "output_type": "stream",
     "text": [
      " 20%|███████████████▏                                                           | 3657/18114 [19:39<1:20:46,  2.98it/s]"
     ]
    },
    {
     "name": "stdout",
     "output_type": "stream",
     "text": [
      "⚠️ Skipping Q5T1J6 - Q59H\n"
     ]
    },
    {
     "name": "stderr",
     "output_type": "stream",
     "text": [
      " 24%|█████████████████▉                                                         | 4323/18114 [23:23<1:13:20,  3.13it/s]"
     ]
    },
    {
     "name": "stdout",
     "output_type": "stream",
     "text": [
      "⚠️ Skipping Q96L96 - G1777R\n"
     ]
    },
    {
     "name": "stderr",
     "output_type": "stream",
     "text": [
      " 41%|███████████████████████████████▊                                             | 7474/18114 [40:27<57:07,  3.10it/s]"
     ]
    },
    {
     "name": "stdout",
     "output_type": "stream",
     "text": [
      "⚠️ Skipping Q8N1N5 - C89Y\n"
     ]
    },
    {
     "name": "stderr",
     "output_type": "stream",
     "text": [
      " 41%|███████████████████████████████▊                                             | 7475/18114 [40:28<56:45,  3.12it/s]"
     ]
    },
    {
     "name": "stdout",
     "output_type": "stream",
     "text": [
      "⚠️ Skipping Q8N1N5 - C236R\n"
     ]
    },
    {
     "name": "stderr",
     "output_type": "stream",
     "text": [
      " 41%|███████████████████████████████▊                                             | 7476/18114 [40:28<56:33,  3.13it/s]"
     ]
    },
    {
     "name": "stdout",
     "output_type": "stream",
     "text": [
      "⚠️ Skipping Q8N1N5 - H95P\n"
     ]
    },
    {
     "name": "stderr",
     "output_type": "stream",
     "text": [
      " 41%|███████████████████████████████▊                                             | 7477/18114 [40:28<58:44,  3.02it/s]"
     ]
    },
    {
     "name": "stdout",
     "output_type": "stream",
     "text": [
      "⚠️ Skipping Q8N1N5 - V164A\n"
     ]
    },
    {
     "name": "stderr",
     "output_type": "stream",
     "text": [
      " 41%|███████████████████████████████▊                                             | 7478/18114 [40:29<59:52,  2.96it/s]"
     ]
    },
    {
     "name": "stdout",
     "output_type": "stream",
     "text": [
      "⚠️ Skipping Q8N1N5 - P173R\n"
     ]
    },
    {
     "name": "stderr",
     "output_type": "stream",
     "text": [
      " 41%|███████████████████████████████▊                                             | 7479/18114 [40:29<58:56,  3.01it/s]"
     ]
    },
    {
     "name": "stdout",
     "output_type": "stream",
     "text": [
      "⚠️ Skipping Q8N1N5 - M286T\n"
     ]
    },
    {
     "name": "stderr",
     "output_type": "stream",
     "text": [
      " 41%|███████████████████████████████▊                                             | 7480/18114 [40:29<58:33,  3.03it/s]"
     ]
    },
    {
     "name": "stdout",
     "output_type": "stream",
     "text": [
      "⚠️ Skipping Q8N1N5 - M153T\n"
     ]
    },
    {
     "name": "stderr",
     "output_type": "stream",
     "text": [
      " 41%|███████████████████████████████▊                                             | 7481/18114 [40:30<58:56,  3.01it/s]"
     ]
    },
    {
     "name": "stdout",
     "output_type": "stream",
     "text": [
      "⚠️ Skipping Q8N1N5 - C27Y\n"
     ]
    },
    {
     "name": "stderr",
     "output_type": "stream",
     "text": [
      " 41%|██████████████████████████████▉                                            | 7482/18114 [40:30<1:00:40,  2.92it/s]"
     ]
    },
    {
     "name": "stdout",
     "output_type": "stream",
     "text": [
      "⚠️ Skipping Q8N1N5 - C174R\n"
     ]
    },
    {
     "name": "stderr",
     "output_type": "stream",
     "text": [
      " 41%|██████████████████████████████▉                                            | 7483/18114 [40:31<1:00:10,  2.94it/s]"
     ]
    },
    {
     "name": "stdout",
     "output_type": "stream",
     "text": [
      "⚠️ Skipping Q8N1N5 - R154W\n"
     ]
    },
    {
     "name": "stderr",
     "output_type": "stream",
     "text": [
      " 41%|███████████████████████████████▊                                             | 7484/18114 [40:31<58:07,  3.05it/s]"
     ]
    },
    {
     "name": "stdout",
     "output_type": "stream",
     "text": [
      "⚠️ Skipping Q8N1N5 - P142R\n"
     ]
    },
    {
     "name": "stderr",
     "output_type": "stream",
     "text": [
      " 61%|█████████████████████████████████████████████▏                            | 11066/18114 [1:00:57<37:57,  3.09it/s]"
     ]
    },
    {
     "name": "stdout",
     "output_type": "stream",
     "text": [
      "⚠️ Skipping Q9BYR0 - S168C\n"
     ]
    },
    {
     "name": "stderr",
     "output_type": "stream",
     "text": [
      " 62%|█████████████████████████████████████████████▉                            | 11255/18114 [1:01:59<38:46,  2.95it/s]"
     ]
    },
    {
     "name": "stdout",
     "output_type": "stream",
     "text": [
      "⚠️ Skipping P08519 - L3880V\n"
     ]
    },
    {
     "name": "stderr",
     "output_type": "stream",
     "text": [
      " 62%|█████████████████████████████████████████████▉                            | 11256/18114 [1:02:00<38:14,  2.99it/s]"
     ]
    },
    {
     "name": "stdout",
     "output_type": "stream",
     "text": [
      "⚠️ Skipping P08519 - L3866V\n"
     ]
    },
    {
     "name": "stderr",
     "output_type": "stream",
     "text": [
      " 62%|█████████████████████████████████████████████▉                            | 11257/18114 [1:02:00<37:46,  3.03it/s]"
     ]
    },
    {
     "name": "stdout",
     "output_type": "stream",
     "text": [
      "⚠️ Skipping P08519 - M4106T\n"
     ]
    },
    {
     "name": "stderr",
     "output_type": "stream",
     "text": [
      " 62%|█████████████████████████████████████████████▉                            | 11258/18114 [1:02:00<38:13,  2.99it/s]"
     ]
    },
    {
     "name": "stdout",
     "output_type": "stream",
     "text": [
      "⚠️ Skipping P08519 - M4187T\n"
     ]
    },
    {
     "name": "stderr",
     "output_type": "stream",
     "text": [
      " 62%|█████████████████████████████████████████████▉                            | 11259/18114 [1:02:01<37:22,  3.06it/s]"
     ]
    },
    {
     "name": "stdout",
     "output_type": "stream",
     "text": [
      "⚠️ Skipping P08519 - R3929Q\n"
     ]
    },
    {
     "name": "stderr",
     "output_type": "stream",
     "text": [
      " 80%|███████████████████████████████████████████████████████████▎              | 14517/18114 [1:19:59<19:47,  3.03it/s]"
     ]
    },
    {
     "name": "stdout",
     "output_type": "stream",
     "text": [
      "⚠️ Skipping P57071 - C1230Y\n"
     ]
    },
    {
     "name": "stderr",
     "output_type": "stream",
     "text": [
      " 80%|███████████████████████████████████████████████████████████▎              | 14520/18114 [1:20:00<19:06,  3.14it/s]"
     ]
    },
    {
     "name": "stdout",
     "output_type": "stream",
     "text": [
      "⚠️ Skipping P57071 - S1481P\n"
     ]
    },
    {
     "name": "stderr",
     "output_type": "stream",
     "text": [
      "100%|██████████████████████████████████████████████████████████████████████████| 18114/18114 [1:39:53<00:00,  3.02it/s]\n"
     ]
    },
    {
     "name": "stdout",
     "output_type": "stream",
     "text": [
      "✅ Features saved to mutation_matrix_features.csv\n"
     ]
    }
   ],
   "source": [
    "import pandas as pd\n",
    "import requests\n",
    "import re\n",
    "import os\n",
    "from tqdm import tqdm\n",
    "\n",
    "# ========== CONFIG ==========\n",
    "\n",
    "AAINDEX_FILE = \"aaindex2.txt\"  # This must be downloaded from https://www.genome.jp/ftp/db/community/aaindex/\n",
    "INPUT_EXCEL = \"mutations.xlsx\"\n",
    "OUTPUT_CSV = \"mutation_matrix_features.csv\"\n",
    "\n",
    "# ============================\n",
    "\n",
    "AA_LETTERS = 'ARNDCQEGHILKMFPSTWYV'\n",
    "\n",
    "\n",
    "def get_uniprot_sequence(uniprot_id):\n",
    "    url = f\"https://www.uniprot.org/uniprot/{uniprot_id}.fasta\"\n",
    "    response = requests.get(url)\n",
    "    if response.ok:\n",
    "        lines = response.text.strip().split('\\n')\n",
    "        return ''.join(lines[1:])\n",
    "    return None\n",
    "\n",
    "\n",
    "def parse_mutation(mutation_str):\n",
    "    match = re.match(r\"([A-Z])(\\d+)([A-Z])\", mutation_str)\n",
    "    if match:\n",
    "        wt, pos, mut = match.groups()\n",
    "        return wt, int(pos), mut\n",
    "    return None, None, None\n",
    "\n",
    "\n",
    "def get_neighbors(sequence, pos):\n",
    "    n = sequence[pos - 2] if pos > 1 else None\n",
    "    c = sequence[pos] if pos < len(sequence) else None\n",
    "    return n, c\n",
    "\n",
    "\n",
    "def load_aaindex2(filename):\n",
    "    matrices = {}\n",
    "    with open(filename) as f:\n",
    "        blocks = f.read().split(\"//\\n\")\n",
    "        for block in blocks:\n",
    "            lines = block.strip().split('\\n')\n",
    "            if not lines or not lines[0].startswith('H'):\n",
    "                continue\n",
    "            mat_id = lines[0].split()[1]\n",
    "            matrix = {}\n",
    "            values = []\n",
    "            for line in lines:\n",
    "                if line.startswith('M'):\n",
    "                    continue\n",
    "                if all(c.isdigit() or c.isspace() or c == '.' or c == '-' for c in line.strip()):\n",
    "                    values.extend([float(x) if x != '-' else 0.0 for x in line.strip().split()])\n",
    "\n",
    "            if len(values) == 210:\n",
    "                index = 0\n",
    "                for i in range(20):\n",
    "                    for j in range(i + 1):\n",
    "                        a1, a2 = AA_LETTERS[i], AA_LETTERS[j]\n",
    "                        val = values[index]\n",
    "                        matrix[(a1, a2)] = val\n",
    "                        matrix[(a2, a1)] = val\n",
    "                        index += 1\n",
    "                matrices[mat_id] = matrix\n",
    "    return matrices\n",
    "\n",
    "\n",
    "def compute_matrix_features(matrices, wt, mut, n, c):\n",
    "    features = {}\n",
    "    if not all([wt, mut, n, c]):\n",
    "        return {f\"{mat_id}_mutation_delta\": 0.0 for mat_id in matrices}\n",
    "\n",
    "    for mat_id, matrix in matrices.items():\n",
    "        wt_n = matrix.get((wt, n), 0.0)\n",
    "        wt_c = matrix.get((wt, c), 0.0)\n",
    "        mut_n = matrix.get((mut, n), 0.0)\n",
    "        mut_c = matrix.get((mut, c), 0.0)\n",
    "        delta = (mut_n + mut_c) - (wt_n + wt_c)\n",
    "        features[f\"{mat_id}_mutation_delta\"] = delta\n",
    "    return features\n",
    "\n",
    "\n",
    "def main():\n",
    "    if not os.path.exists(AAINDEX_FILE):\n",
    "        print(f\"❌ AAindex2 file not found: {AAINDEX_FILE}\")\n",
    "        print(\"Please download it from: https://www.genome.jp/ftp/db/community/aaindex/aaindex2\")\n",
    "        return\n",
    "\n",
    "    df = pd.read_excel(INPUT_EXCEL)\n",
    "    print(df.columns)\n",
    "\n",
    "    matrices = load_aaindex2(AAINDEX_FILE)\n",
    "    print(f\"✅ Loaded {len(matrices)} mutation matrices.\")\n",
    "\n",
    "    all_rows = []\n",
    "\n",
    "    for _, row in tqdm(df.iterrows(), total=len(df)):\n",
    "        uniprot_id = row['UniProt ID']\n",
    "        mutation = row['Mutation']\n",
    "        wt, pos, mut = parse_mutation(mutation)\n",
    "        sequence = get_uniprot_sequence(uniprot_id)\n",
    "\n",
    "        if not sequence or pos > len(sequence):\n",
    "            print(f\"⚠️ Skipping {uniprot_id} - {mutation}\")\n",
    "            continue\n",
    "\n",
    "        n, c = get_neighbors(sequence, pos)\n",
    "        features = compute_matrix_features(matrices, wt, mut, n, c)\n",
    "\n",
    "        all_rows.append({\n",
    "            'UniProt ID': uniprot_id,\n",
    "            'Mutation': mutation,\n",
    "            'WildType': wt,\n",
    "            'Position': pos,\n",
    "            'Mutant': mut,\n",
    "            'Neighbor_N': n,\n",
    "            'Neighbor_C': c,\n",
    "            **features\n",
    "        })\n",
    "\n",
    "    out_df = pd.DataFrame(all_rows)\n",
    "    out_df.to_csv(OUTPUT_CSV, index=False)\n",
    "    print(f\"✅ Features saved to {OUTPUT_CSV}\")\n",
    "\n",
    "\n",
    "if __name__ == \"__main__\":\n",
    "    main()\n"
   ]
  }
 ],
 "metadata": {
  "kernelspec": {
   "display_name": "Python 3 (ipykernel)",
   "language": "python",
   "name": "python3"
  },
  "language_info": {
   "codemirror_mode": {
    "name": "ipython",
    "version": 3
   },
   "file_extension": ".py",
   "mimetype": "text/x-python",
   "name": "python",
   "nbconvert_exporter": "python",
   "pygments_lexer": "ipython3",
   "version": "3.12.1"
  }
 },
 "nbformat": 4,
 "nbformat_minor": 5
}
